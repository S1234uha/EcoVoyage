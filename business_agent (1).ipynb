{
  "cells": [
    {
      "cell_type": "markdown",
      "metadata": {
        "id": "g3s3YQqxgI1H"
      },
      "source": [
        "# EcoVoyage Travel — Agent Notebook\n",
        "This notebook demonstrates a tool-enabled chatbot for a fictional business."
      ],
      "id": "g3s3YQqxgI1H"
    },
    {
      "cell_type": "code",
      "execution_count": 1,
      "metadata": {
        "id": "3Pfo00U8gI1K"
      },
      "outputs": [],
      "source": [
        "# Optional: install deps in Colab/Notebook\n",
        "# !pip install -r business_bot/requirements.txt"
      ],
      "id": "3Pfo00U8gI1K"
    },
    {
      "cell_type": "code",
      "source": [],
      "metadata": {
        "id": "MmGiE5hugeIf"
      },
      "id": "MmGiE5hugeIf",
      "execution_count": 1,
      "outputs": []
    },
    {
      "cell_type": "markdown",
      "metadata": {
        "id": "wGnQtsungI1L"
      },
      "source": [
        "## Download business_bot from Google Drive (public)\n",
        "If running in Colab or a clean notebook, fetch the project folder from a public Drive link into `business_bot/`."
      ],
      "id": "wGnQtsungI1L"
    },
    {
      "cell_type": "code",
      "execution_count": 2,
      "metadata": {
        "id": "UeeDFbtugI1M"
      },
      "outputs": [],
      "source": [
        "import os, sys, subprocess, shutil\n",
        "from pathlib import Path\n",
        "\n",
        "ROOT_DIR = Path.cwd()\n",
        "TARGET = ROOT_DIR / 'business_bot'\n",
        "DRIVE_URL = os.environ.get('GDRIVE_FOLDER_URL', 'https://drive.google.com/drive/folders/1mY3PsShM1nc_WciI2CyXKXm373K0SRiH?usp=sharing')\n",
        "\n",
        "if not TARGET.exists():\n",
        "    # Install gdown quietly\n",
        "    subprocess.run([sys.executable, '-m', 'pip', 'install', '-q', 'gdown'], check=True)\n",
        "    import gdown\n",
        "    print('Downloading business_bot from Google Drive to', TARGET)\n",
        "    gdown.download_folder(DRIVE_URL, output=str(TARGET), quiet=False, use_cookies=False)\n",
        "    # If a single subfolder was created, lift its contents up to business_bot/\n",
        "    entries = [p for p in TARGET.iterdir()]\n",
        "    if len(entries) == 1 and entries[0].is_dir():\n",
        "        inner = entries[0]\n",
        "        for item in inner.iterdir():\n",
        "            shutil.move(str(item), TARGET / item.name)\n",
        "        inner.rmdir()\n",
        "    print('Ready:', list(TARGET.iterdir()))\n"
      ],
      "id": "UeeDFbtugI1M"
    },
    {
      "cell_type": "code",
      "source": [
        "# Optional: install deps in Colab/Notebook\n",
        "!pip install -r business_bot/requirements.txt"
      ],
      "metadata": {
        "colab": {
          "base_uri": "https://localhost:8080/"
        },
        "id": "TqcY3ZuEgfyx",
        "outputId": "d2320237-63f8-4abd-e6a1-acb24b8b9b8b"
      },
      "id": "TqcY3ZuEgfyx",
      "execution_count": 3,
      "outputs": [
        {
          "output_type": "stream",
          "name": "stdout",
          "text": [
            "Requirement already satisfied: openai>=1.40.0 in /usr/local/lib/python3.12/dist-packages (from -r business_bot/requirements.txt (line 1)) (1.109.1)\n",
            "Requirement already satisfied: python-dotenv>=1.0.1 in /usr/local/lib/python3.12/dist-packages (from -r business_bot/requirements.txt (line 2)) (1.1.1)\n",
            "Requirement already satisfied: gradio>=4.44.0 in /usr/local/lib/python3.12/dist-packages (from -r business_bot/requirements.txt (line 3)) (5.49.1)\n",
            "Requirement already satisfied: pdfminer.six>=20220524 in /usr/local/lib/python3.12/dist-packages (from -r business_bot/requirements.txt (line 4)) (20250506)\n",
            "Requirement already satisfied: reportlab>=4.2.5 in /usr/local/lib/python3.12/dist-packages (from -r business_bot/requirements.txt (line 5)) (4.4.4)\n",
            "Requirement already satisfied: google-generativeai>=0.7.2 in /usr/local/lib/python3.12/dist-packages (from -r business_bot/requirements.txt (line 6)) (0.8.5)\n",
            "Requirement already satisfied: huggingface_hub>=0.24.0 in /usr/local/lib/python3.12/dist-packages (from -r business_bot/requirements.txt (line 7)) (0.35.3)\n",
            "Requirement already satisfied: anyio<5,>=3.5.0 in /usr/local/lib/python3.12/dist-packages (from openai>=1.40.0->-r business_bot/requirements.txt (line 1)) (4.11.0)\n",
            "Requirement already satisfied: distro<2,>=1.7.0 in /usr/local/lib/python3.12/dist-packages (from openai>=1.40.0->-r business_bot/requirements.txt (line 1)) (1.9.0)\n",
            "Requirement already satisfied: httpx<1,>=0.23.0 in /usr/local/lib/python3.12/dist-packages (from openai>=1.40.0->-r business_bot/requirements.txt (line 1)) (0.28.1)\n",
            "Requirement already satisfied: jiter<1,>=0.4.0 in /usr/local/lib/python3.12/dist-packages (from openai>=1.40.0->-r business_bot/requirements.txt (line 1)) (0.11.0)\n",
            "Requirement already satisfied: pydantic<3,>=1.9.0 in /usr/local/lib/python3.12/dist-packages (from openai>=1.40.0->-r business_bot/requirements.txt (line 1)) (2.11.10)\n",
            "Requirement already satisfied: sniffio in /usr/local/lib/python3.12/dist-packages (from openai>=1.40.0->-r business_bot/requirements.txt (line 1)) (1.3.1)\n",
            "Requirement already satisfied: tqdm>4 in /usr/local/lib/python3.12/dist-packages (from openai>=1.40.0->-r business_bot/requirements.txt (line 1)) (4.67.1)\n",
            "Requirement already satisfied: typing-extensions<5,>=4.11 in /usr/local/lib/python3.12/dist-packages (from openai>=1.40.0->-r business_bot/requirements.txt (line 1)) (4.15.0)\n",
            "Requirement already satisfied: aiofiles<25.0,>=22.0 in /usr/local/lib/python3.12/dist-packages (from gradio>=4.44.0->-r business_bot/requirements.txt (line 3)) (24.1.0)\n",
            "Requirement already satisfied: brotli>=1.1.0 in /usr/local/lib/python3.12/dist-packages (from gradio>=4.44.0->-r business_bot/requirements.txt (line 3)) (1.1.0)\n",
            "Requirement already satisfied: fastapi<1.0,>=0.115.2 in /usr/local/lib/python3.12/dist-packages (from gradio>=4.44.0->-r business_bot/requirements.txt (line 3)) (0.119.0)\n",
            "Requirement already satisfied: ffmpy in /usr/local/lib/python3.12/dist-packages (from gradio>=4.44.0->-r business_bot/requirements.txt (line 3)) (0.6.3)\n",
            "Requirement already satisfied: gradio-client==1.13.3 in /usr/local/lib/python3.12/dist-packages (from gradio>=4.44.0->-r business_bot/requirements.txt (line 3)) (1.13.3)\n",
            "Requirement already satisfied: groovy~=0.1 in /usr/local/lib/python3.12/dist-packages (from gradio>=4.44.0->-r business_bot/requirements.txt (line 3)) (0.1.2)\n",
            "Requirement already satisfied: jinja2<4.0 in /usr/local/lib/python3.12/dist-packages (from gradio>=4.44.0->-r business_bot/requirements.txt (line 3)) (3.1.6)\n",
            "Requirement already satisfied: markupsafe<4.0,>=2.0 in /usr/local/lib/python3.12/dist-packages (from gradio>=4.44.0->-r business_bot/requirements.txt (line 3)) (3.0.3)\n",
            "Requirement already satisfied: numpy<3.0,>=1.0 in /usr/local/lib/python3.12/dist-packages (from gradio>=4.44.0->-r business_bot/requirements.txt (line 3)) (2.0.2)\n",
            "Requirement already satisfied: orjson~=3.0 in /usr/local/lib/python3.12/dist-packages (from gradio>=4.44.0->-r business_bot/requirements.txt (line 3)) (3.11.3)\n",
            "Requirement already satisfied: packaging in /usr/local/lib/python3.12/dist-packages (from gradio>=4.44.0->-r business_bot/requirements.txt (line 3)) (25.0)\n",
            "Requirement already satisfied: pandas<3.0,>=1.0 in /usr/local/lib/python3.12/dist-packages (from gradio>=4.44.0->-r business_bot/requirements.txt (line 3)) (2.2.2)\n",
            "Requirement already satisfied: pillow<12.0,>=8.0 in /usr/local/lib/python3.12/dist-packages (from gradio>=4.44.0->-r business_bot/requirements.txt (line 3)) (11.3.0)\n",
            "Requirement already satisfied: pydub in /usr/local/lib/python3.12/dist-packages (from gradio>=4.44.0->-r business_bot/requirements.txt (line 3)) (0.25.1)\n",
            "Requirement already satisfied: python-multipart>=0.0.18 in /usr/local/lib/python3.12/dist-packages (from gradio>=4.44.0->-r business_bot/requirements.txt (line 3)) (0.0.20)\n",
            "Requirement already satisfied: pyyaml<7.0,>=5.0 in /usr/local/lib/python3.12/dist-packages (from gradio>=4.44.0->-r business_bot/requirements.txt (line 3)) (6.0.3)\n",
            "Requirement already satisfied: ruff>=0.9.3 in /usr/local/lib/python3.12/dist-packages (from gradio>=4.44.0->-r business_bot/requirements.txt (line 3)) (0.14.0)\n",
            "Requirement already satisfied: safehttpx<0.2.0,>=0.1.6 in /usr/local/lib/python3.12/dist-packages (from gradio>=4.44.0->-r business_bot/requirements.txt (line 3)) (0.1.6)\n",
            "Requirement already satisfied: semantic-version~=2.0 in /usr/local/lib/python3.12/dist-packages (from gradio>=4.44.0->-r business_bot/requirements.txt (line 3)) (2.10.0)\n",
            "Requirement already satisfied: starlette<1.0,>=0.40.0 in /usr/local/lib/python3.12/dist-packages (from gradio>=4.44.0->-r business_bot/requirements.txt (line 3)) (0.48.0)\n",
            "Requirement already satisfied: tomlkit<0.14.0,>=0.12.0 in /usr/local/lib/python3.12/dist-packages (from gradio>=4.44.0->-r business_bot/requirements.txt (line 3)) (0.13.3)\n",
            "Requirement already satisfied: typer<1.0,>=0.12 in /usr/local/lib/python3.12/dist-packages (from gradio>=4.44.0->-r business_bot/requirements.txt (line 3)) (0.19.2)\n",
            "Requirement already satisfied: uvicorn>=0.14.0 in /usr/local/lib/python3.12/dist-packages (from gradio>=4.44.0->-r business_bot/requirements.txt (line 3)) (0.37.0)\n",
            "Requirement already satisfied: fsspec in /usr/local/lib/python3.12/dist-packages (from gradio-client==1.13.3->gradio>=4.44.0->-r business_bot/requirements.txt (line 3)) (2025.3.0)\n",
            "Requirement already satisfied: websockets<16.0,>=13.0 in /usr/local/lib/python3.12/dist-packages (from gradio-client==1.13.3->gradio>=4.44.0->-r business_bot/requirements.txt (line 3)) (15.0.1)\n",
            "Requirement already satisfied: charset-normalizer>=2.0.0 in /usr/local/lib/python3.12/dist-packages (from pdfminer.six>=20220524->-r business_bot/requirements.txt (line 4)) (3.4.4)\n",
            "Requirement already satisfied: cryptography>=36.0.0 in /usr/local/lib/python3.12/dist-packages (from pdfminer.six>=20220524->-r business_bot/requirements.txt (line 4)) (43.0.3)\n",
            "Requirement already satisfied: google-ai-generativelanguage==0.6.15 in /usr/local/lib/python3.12/dist-packages (from google-generativeai>=0.7.2->-r business_bot/requirements.txt (line 6)) (0.6.15)\n",
            "Requirement already satisfied: google-api-core in /usr/local/lib/python3.12/dist-packages (from google-generativeai>=0.7.2->-r business_bot/requirements.txt (line 6)) (2.26.0)\n",
            "Requirement already satisfied: google-api-python-client in /usr/local/lib/python3.12/dist-packages (from google-generativeai>=0.7.2->-r business_bot/requirements.txt (line 6)) (2.184.0)\n",
            "Requirement already satisfied: google-auth>=2.15.0 in /usr/local/lib/python3.12/dist-packages (from google-generativeai>=0.7.2->-r business_bot/requirements.txt (line 6)) (2.38.0)\n",
            "Requirement already satisfied: protobuf in /usr/local/lib/python3.12/dist-packages (from google-generativeai>=0.7.2->-r business_bot/requirements.txt (line 6)) (5.29.5)\n",
            "Requirement already satisfied: proto-plus<2.0.0dev,>=1.22.3 in /usr/local/lib/python3.12/dist-packages (from google-ai-generativelanguage==0.6.15->google-generativeai>=0.7.2->-r business_bot/requirements.txt (line 6)) (1.26.1)\n",
            "Requirement already satisfied: filelock in /usr/local/lib/python3.12/dist-packages (from huggingface_hub>=0.24.0->-r business_bot/requirements.txt (line 7)) (3.20.0)\n",
            "Requirement already satisfied: requests in /usr/local/lib/python3.12/dist-packages (from huggingface_hub>=0.24.0->-r business_bot/requirements.txt (line 7)) (2.32.4)\n",
            "Requirement already satisfied: hf-xet<2.0.0,>=1.1.3 in /usr/local/lib/python3.12/dist-packages (from huggingface_hub>=0.24.0->-r business_bot/requirements.txt (line 7)) (1.1.10)\n",
            "Requirement already satisfied: idna>=2.8 in /usr/local/lib/python3.12/dist-packages (from anyio<5,>=3.5.0->openai>=1.40.0->-r business_bot/requirements.txt (line 1)) (3.11)\n",
            "Requirement already satisfied: cffi>=1.12 in /usr/local/lib/python3.12/dist-packages (from cryptography>=36.0.0->pdfminer.six>=20220524->-r business_bot/requirements.txt (line 4)) (2.0.0)\n",
            "Requirement already satisfied: googleapis-common-protos<2.0.0,>=1.56.2 in /usr/local/lib/python3.12/dist-packages (from google-api-core->google-generativeai>=0.7.2->-r business_bot/requirements.txt (line 6)) (1.70.0)\n",
            "Requirement already satisfied: cachetools<6.0,>=2.0.0 in /usr/local/lib/python3.12/dist-packages (from google-auth>=2.15.0->google-generativeai>=0.7.2->-r business_bot/requirements.txt (line 6)) (5.5.2)\n",
            "Requirement already satisfied: pyasn1-modules>=0.2.1 in /usr/local/lib/python3.12/dist-packages (from google-auth>=2.15.0->google-generativeai>=0.7.2->-r business_bot/requirements.txt (line 6)) (0.4.2)\n",
            "Requirement already satisfied: rsa<5,>=3.1.4 in /usr/local/lib/python3.12/dist-packages (from google-auth>=2.15.0->google-generativeai>=0.7.2->-r business_bot/requirements.txt (line 6)) (4.9.1)\n",
            "Requirement already satisfied: certifi in /usr/local/lib/python3.12/dist-packages (from httpx<1,>=0.23.0->openai>=1.40.0->-r business_bot/requirements.txt (line 1)) (2025.10.5)\n",
            "Requirement already satisfied: httpcore==1.* in /usr/local/lib/python3.12/dist-packages (from httpx<1,>=0.23.0->openai>=1.40.0->-r business_bot/requirements.txt (line 1)) (1.0.9)\n",
            "Requirement already satisfied: h11>=0.16 in /usr/local/lib/python3.12/dist-packages (from httpcore==1.*->httpx<1,>=0.23.0->openai>=1.40.0->-r business_bot/requirements.txt (line 1)) (0.16.0)\n",
            "Requirement already satisfied: python-dateutil>=2.8.2 in /usr/local/lib/python3.12/dist-packages (from pandas<3.0,>=1.0->gradio>=4.44.0->-r business_bot/requirements.txt (line 3)) (2.9.0.post0)\n",
            "Requirement already satisfied: pytz>=2020.1 in /usr/local/lib/python3.12/dist-packages (from pandas<3.0,>=1.0->gradio>=4.44.0->-r business_bot/requirements.txt (line 3)) (2025.2)\n",
            "Requirement already satisfied: tzdata>=2022.7 in /usr/local/lib/python3.12/dist-packages (from pandas<3.0,>=1.0->gradio>=4.44.0->-r business_bot/requirements.txt (line 3)) (2025.2)\n",
            "Requirement already satisfied: annotated-types>=0.6.0 in /usr/local/lib/python3.12/dist-packages (from pydantic<3,>=1.9.0->openai>=1.40.0->-r business_bot/requirements.txt (line 1)) (0.7.0)\n",
            "Requirement already satisfied: pydantic-core==2.33.2 in /usr/local/lib/python3.12/dist-packages (from pydantic<3,>=1.9.0->openai>=1.40.0->-r business_bot/requirements.txt (line 1)) (2.33.2)\n",
            "Requirement already satisfied: typing-inspection>=0.4.0 in /usr/local/lib/python3.12/dist-packages (from pydantic<3,>=1.9.0->openai>=1.40.0->-r business_bot/requirements.txt (line 1)) (0.4.2)\n",
            "Requirement already satisfied: urllib3<3,>=1.21.1 in /usr/local/lib/python3.12/dist-packages (from requests->huggingface_hub>=0.24.0->-r business_bot/requirements.txt (line 7)) (2.5.0)\n",
            "Requirement already satisfied: click>=8.0.0 in /usr/local/lib/python3.12/dist-packages (from typer<1.0,>=0.12->gradio>=4.44.0->-r business_bot/requirements.txt (line 3)) (8.3.0)\n",
            "Requirement already satisfied: shellingham>=1.3.0 in /usr/local/lib/python3.12/dist-packages (from typer<1.0,>=0.12->gradio>=4.44.0->-r business_bot/requirements.txt (line 3)) (1.5.4)\n",
            "Requirement already satisfied: rich>=10.11.0 in /usr/local/lib/python3.12/dist-packages (from typer<1.0,>=0.12->gradio>=4.44.0->-r business_bot/requirements.txt (line 3)) (13.9.4)\n",
            "Requirement already satisfied: httplib2<1.0.0,>=0.19.0 in /usr/local/lib/python3.12/dist-packages (from google-api-python-client->google-generativeai>=0.7.2->-r business_bot/requirements.txt (line 6)) (0.31.0)\n",
            "Requirement already satisfied: google-auth-httplib2<1.0.0,>=0.2.0 in /usr/local/lib/python3.12/dist-packages (from google-api-python-client->google-generativeai>=0.7.2->-r business_bot/requirements.txt (line 6)) (0.2.0)\n",
            "Requirement already satisfied: uritemplate<5,>=3.0.1 in /usr/local/lib/python3.12/dist-packages (from google-api-python-client->google-generativeai>=0.7.2->-r business_bot/requirements.txt (line 6)) (4.2.0)\n",
            "Requirement already satisfied: pycparser in /usr/local/lib/python3.12/dist-packages (from cffi>=1.12->cryptography>=36.0.0->pdfminer.six>=20220524->-r business_bot/requirements.txt (line 4)) (2.23)\n",
            "Requirement already satisfied: grpcio<2.0.0,>=1.33.2 in /usr/local/lib/python3.12/dist-packages (from google-api-core[grpc]!=2.0.*,!=2.1.*,!=2.10.*,!=2.2.*,!=2.3.*,!=2.4.*,!=2.5.*,!=2.6.*,!=2.7.*,!=2.8.*,!=2.9.*,<3.0.0dev,>=1.34.1->google-ai-generativelanguage==0.6.15->google-generativeai>=0.7.2->-r business_bot/requirements.txt (line 6)) (1.75.1)\n",
            "Requirement already satisfied: grpcio-status<2.0.0,>=1.33.2 in /usr/local/lib/python3.12/dist-packages (from google-api-core[grpc]!=2.0.*,!=2.1.*,!=2.10.*,!=2.2.*,!=2.3.*,!=2.4.*,!=2.5.*,!=2.6.*,!=2.7.*,!=2.8.*,!=2.9.*,<3.0.0dev,>=1.34.1->google-ai-generativelanguage==0.6.15->google-generativeai>=0.7.2->-r business_bot/requirements.txt (line 6)) (1.71.2)\n",
            "Requirement already satisfied: pyparsing<4,>=3.0.4 in /usr/local/lib/python3.12/dist-packages (from httplib2<1.0.0,>=0.19.0->google-api-python-client->google-generativeai>=0.7.2->-r business_bot/requirements.txt (line 6)) (3.2.5)\n",
            "Requirement already satisfied: pyasn1<0.7.0,>=0.6.1 in /usr/local/lib/python3.12/dist-packages (from pyasn1-modules>=0.2.1->google-auth>=2.15.0->google-generativeai>=0.7.2->-r business_bot/requirements.txt (line 6)) (0.6.1)\n",
            "Requirement already satisfied: six>=1.5 in /usr/local/lib/python3.12/dist-packages (from python-dateutil>=2.8.2->pandas<3.0,>=1.0->gradio>=4.44.0->-r business_bot/requirements.txt (line 3)) (1.17.0)\n",
            "Requirement already satisfied: markdown-it-py>=2.2.0 in /usr/local/lib/python3.12/dist-packages (from rich>=10.11.0->typer<1.0,>=0.12->gradio>=4.44.0->-r business_bot/requirements.txt (line 3)) (4.0.0)\n",
            "Requirement already satisfied: pygments<3.0.0,>=2.13.0 in /usr/local/lib/python3.12/dist-packages (from rich>=10.11.0->typer<1.0,>=0.12->gradio>=4.44.0->-r business_bot/requirements.txt (line 3)) (2.19.2)\n",
            "Requirement already satisfied: mdurl~=0.1 in /usr/local/lib/python3.12/dist-packages (from markdown-it-py>=2.2.0->rich>=10.11.0->typer<1.0,>=0.12->gradio>=4.44.0->-r business_bot/requirements.txt (line 3)) (0.1.2)\n"
          ]
        }
      ]
    },
    {
      "cell_type": "code",
      "execution_count": 4,
      "metadata": {
        "id": "j8Xi2gGLgI1N"
      },
      "outputs": [],
      "source": [
        "import os, json\n",
        "from pathlib import Path\n",
        "from dotenv import load_dotenv\n",
        "from pdfminer.high_level import extract_text\n",
        "from openai import OpenAI\n",
        "\n",
        "from business_bot.tools import record_customer_interest, record_feedback, openai_tools\n",
        "\n",
        "ROOT = Path('business_bot')\n",
        "SUMMARY_PATH = ROOT / 'business_summary.txt'\n",
        "PDF_PATH = ROOT / 'about_business.pdf'\n",
        "\n",
        "def load_context():\n",
        "    summary = SUMMARY_PATH.read_text(encoding='utf-8') if SUMMARY_PATH.exists() else ''\n",
        "    pdf_text = extract_text(str(PDF_PATH)) if PDF_PATH.exists() else ''\n",
        "    return {'summary': summary, 'pdf': pdf_text}\n",
        "\n",
        "SYSTEM_PROMPT = (\"You are EcoVoyage Travel's virtual concierge. Use the provided context to answer.\\n\\n\"\n",
        "                 \"If unsure, call record_feedback. Encourage leads to share name/email and call record_customer_interest.\")\n",
        "\n",
        "def build_initial_messages(context):\n",
        "    return [\n",
        "        {'role': 'system', 'content': SYSTEM_PROMPT},\n",
        "        {'role': 'system', 'content': 'Business summary:' + context.get('summary','')},\n",
        "        {'role': 'system', 'content': 'Business PDF:' + context.get('pdf','')},\n",
        "    ]\n",
        "\n",
        "def chat_openai(messages, tools, model='gpt-4o-mini'):\n",
        "    load_dotenv()\n",
        "    client = OpenAI(api_key=os.getenv('OPENAI_API_KEY'))\n",
        "    while True:\n",
        "        resp = client.chat.completions.create(model=model, messages=messages, tools=tools, tool_choice='auto')\n",
        "        msg = resp.choices[0].message\n",
        "        if msg.tool_calls:\n",
        "            # Include assistant message with tool_calls before appending tool outputs\n",
        "            assistant_tool_calls = []\n",
        "            for tc in msg.tool_calls:\n",
        "                assistant_tool_calls.append({\n",
        "                    'id': tc.id,\n",
        "                    'type': 'function',\n",
        "                    'function': {\n",
        "                        'name': tc.function.name,\n",
        "                        'arguments': tc.function.arguments,\n",
        "                    },\n",
        "                })\n",
        "            messages.append({'role': 'assistant', 'content': msg.content or '', 'tool_calls': assistant_tool_calls})\n",
        "\n",
        "            for tc in msg.tool_calls:\n",
        "                fn = tc.function\n",
        "                args = json.loads(fn.arguments) if isinstance(fn.arguments, str) else (fn.arguments or {})\n",
        "                if fn.name == 'record_customer_interest':\n",
        "                    out = record_customer_interest(args.get('email',''), args.get('name',''), args.get('message',''))\n",
        "                elif fn.name == 'record_feedback':\n",
        "                    out = record_feedback(args.get('question',''))\n",
        "                else:\n",
        "                    out = 'Unknown tool'\n",
        "                messages.append({'role': 'tool', 'tool_call_id': tc.id, 'name': fn.name, 'content': out})\n",
        "            continue\n",
        "        return msg.content\n"
      ],
      "id": "j8Xi2gGLgI1N"
    },
    {
      "cell_type": "code",
      "execution_count": 18,
      "metadata": {
        "colab": {
          "base_uri": "https://localhost:8080/",
          "height": 70
        },
        "id": "mrKhjMlkgI1O",
        "outputId": "010af26d-7900-4c77-b521-569e6ad9e107"
      },
      "outputs": [
        {
          "output_type": "execute_result",
          "data": {
            "text/plain": [
              "\"Yes, we do offer family-friendly trips in Costa Rica! Our itineraries can be tailored to suit families, including activities that are engaging for all ages while ensuring a safe and eco-friendly experience. \\n\\nIf you're interested in more details or want to explore specific options, please share your name and email so I can follow up with you!\""
            ],
            "application/vnd.google.colaboratory.intrinsic+json": {
              "type": "string"
            }
          },
          "metadata": {},
          "execution_count": 18
        }
      ],
      "source": [
        "# Demo (requires valid OPENAI_API_KEY in .env)\n",
        "from google.colab import userdata\n",
        "os.environ['OPENAI_API_KEY'] = userdata.get('OPENAI_API_KEY')\n",
        "\n",
        "ctx = load_context()\n",
        "messages = build_initial_messages(ctx)\n",
        "messages.append({'role':'user','content':'Hi! Do you offer family-friendly trips in Costa Rica?'})\n",
        "chat_openai(messages, openai_tools)"
      ],
      "id": "mrKhjMlkgI1O"
    },
    {
      "cell_type": "markdown",
      "metadata": {
        "id": "fB9jNOeogI1O"
      },
      "source": [
        "## Launch Gradio (optional)\n",
        "Run a simple chat UI inside the notebook."
      ],
      "id": "fB9jNOeogI1O"
    },
    {
      "cell_type": "code",
      "execution_count": 19,
      "metadata": {
        "colab": {
          "base_uri": "https://localhost:8080/",
          "height": 680
        },
        "id": "0qth1f86gI1P",
        "outputId": "90daca9b-8433-47b3-db6a-e9855acb8daa"
      },
      "outputs": [
        {
          "output_type": "stream",
          "name": "stderr",
          "text": [
            "/usr/local/lib/python3.12/dist-packages/gradio/chat_interface.py:347: UserWarning: The 'tuples' format for chatbot messages is deprecated and will be removed in a future version of Gradio. Please set type='messages' instead, which uses openai-style 'role' and 'content' keys.\n",
            "  self.chatbot = Chatbot(\n"
          ]
        },
        {
          "output_type": "stream",
          "name": "stdout",
          "text": [
            "It looks like you are running Gradio on a hosted Jupyter notebook, which requires `share=True`. Automatically setting `share=True` (you can turn this off by setting `share=False` in `launch()` explicitly).\n",
            "\n",
            "Colab notebook detected. To show errors in colab notebook, set debug=True in launch()\n",
            "* Running on public URL: https://3b59705044d53facbc.gradio.live\n",
            "\n",
            "This share link expires in 1 week. For free permanent hosting and GPU upgrades, run `gradio deploy` from the terminal in the working directory to deploy to Hugging Face Spaces (https://huggingface.co/spaces)\n"
          ]
        },
        {
          "output_type": "display_data",
          "data": {
            "text/plain": [
              "<IPython.core.display.HTML object>"
            ],
            "text/html": [
              "<div><iframe src=\"https://3b59705044d53facbc.gradio.live\" width=\"100%\" height=\"500\" allow=\"autoplay; camera; microphone; clipboard-read; clipboard-write;\" frameborder=\"0\" allowfullscreen></iframe></div>"
            ]
          },
          "metadata": {}
        },
        {
          "output_type": "execute_result",
          "data": {
            "text/plain": []
          },
          "metadata": {},
          "execution_count": 19
        }
      ],
      "source": [
        "# Demo (requires valid OPENAI_API_KEY in .env)\n",
        "from google.colab import userdata\n",
        "os.environ['OPENAI_API_KEY'] = userdata.get('OPENAI_API_KEY')\n",
        "\n",
        "\n",
        "import gradio as gr\n",
        "\n",
        "def nb_gradio_chat(user_input, history):\n",
        "    ctx = load_context()\n",
        "    messages = build_initial_messages(ctx)\n",
        "    for u,a in history:\n",
        "        if u: messages.append({'role':'user','content':u})\n",
        "        if a: messages.append({'role':'assistant','content':a})\n",
        "    messages.append({'role':'user','content':user_input})\n",
        "    return chat_openai(messages, openai_tools)\n",
        "\n",
        "iface = gr.ChatInterface(fn=nb_gradio_chat, title='EcoVoyage Travel Concierge (Notebook)')\n",
        "iface.launch()  # Uncomment to launch in supported notebook environments\n"
      ],
      "id": "0qth1f86gI1P"
    }
  ],
  "metadata": {
    "kernelspec": {
      "display_name": "Python 3",
      "language": "python",
      "name": "python3"
    },
    "language_info": {
      "name": "python",
      "pygments_lexer": "ipython3"
    },
    "colab": {
      "provenance": []
    }
  },
  "nbformat": 4,
  "nbformat_minor": 5
}