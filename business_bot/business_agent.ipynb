{
 "cells": [
  {
   "cell_type": "markdown",
   "metadata": {},
   "source": [
    "# EcoVoyage Travel — Agent Notebook\n",
    "This notebook demonstrates a tool-enabled chatbot for a fictional business."
   ]
  },
  {
   "cell_type": "code",
   "execution_count": null,
   "metadata": {},
   "outputs": [],
   "source": [
    "# Optional: install deps in Colab/Notebook\n",
    "# !pip install -r business_bot/requirements.txt"
   ]
  },
  {
   "cell_type": "code",
   "execution_count": null,
   "metadata": {},
   "outputs": [],
   "source": [
    "import os, json\n",
    "from pathlib import Path\n",
    "from dotenv import load_dotenv\n",
    "from pdfminer.high_level import extract_text\n",
    "from openai import OpenAI\n",
    "\n",
    "from business_bot.tools import record_customer_interest, record_feedback, openai_tools\n",
    "\n",
    "ROOT = Path('business_bot')\n",
    "SUMMARY_PATH = ROOT / 'business_summary.txt'\n",
    "PDF_PATH = ROOT / 'about_business.pdf'\n",
    "\n",
    "def load_context():\n",
    "    summary = SUMMARY_PATH.read_text(encoding='utf-8') if SUMMARY_PATH.exists() else ''\n",
    "    pdf_text = extract_text(str(PDF_PATH)) if PDF_PATH.exists() else ''\n",
    "    return {'summary': summary, 'pdf': pdf_text}\n",
    "\n",
    "SYSTEM_PROMPT = (\"You are EcoVoyage Travel’s virtual concierge. Use the provided context to answer.\\n\\n\"\n",
    "                 \"If unsure, call record_feedback. Encourage leads to share name/email and call record_customer_interest.\")\n",
    "\n",
    "def build_initial_messages(context):\n",
    "    return [\n",
    "        {'role': 'system', 'content': SYSTEM_PROMPT},\n",
    "        {'role': 'system', 'content': 'Business summary:\n' + context.get('summary','')},\n",
    "        {'role': 'system', 'content': 'Business PDF:\n' + context.get('pdf','')},\n",
    "    ]\n",
    "\n",
    "def chat_openai(messages, tools, model='gpt-4o-mini'):\n",
    "    load_dotenv()\n",
    "    client = OpenAI(api_key=os.getenv('OPENAI_API_KEY'))\n",
    "    while True:\n",
    "        resp = client.chat.completions.create(model=model, messages=messages, tools=tools, tool_choice='auto')\n",
    "        msg = resp.choices[0].message\n",
    "        if msg.tool_calls:\n",
    "            for tc in msg.tool_calls:\n",
    "                fn = tc.function\n",
    "                args = json.loads(fn.arguments) if isinstance(fn.arguments, str) else (fn.arguments or {})\n",
    "                if fn.name == 'record_customer_interest':\n",
    "                    out = record_customer_interest(args.get('email',''), args.get('name',''), args.get('message',''))\n",
    "                elif fn.name == 'record_feedback':\n",
    "                    out = record_feedback(args.get('question',''))\n",
    "                else:\n",
    "                    out = 'Unknown tool'\n",
    "                messages.append({'role': 'tool', 'tool_call_id': tc.id, 'name': fn.name, 'content': out})\n",
    "            continue\n",
    "        return msg.content\n"
   ]
  },
  {
   "cell_type": "code",
   "execution_count": null,
   "metadata": {},
   "outputs": [],
   "source": [
    "# Demo (requires valid OPENAI_API_KEY in .env)\n",
    "ctx = load_context()\n",
    "messages = build_initial_messages(ctx)\n",
    "messages.append({'role':'user','content':'Hi! Do you offer family-friendly trips in Costa Rica?'})\n",
    "chat_openai(messages, openai_tools)"
   ]
  }
 ],
 "metadata": {
  "kernelspec": {
   "display_name": "Python 3",
   "language": "python",
   "name": "python3"
  },
  "language_info": {
   "name": "python",
   "pygments_lexer": "ipython3"
  }
 },
 "nbformat": 4,
 "nbformat_minor": 5
}

